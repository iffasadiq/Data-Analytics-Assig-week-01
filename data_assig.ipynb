{
 "cells": [
  {
   "cell_type": "markdown",
   "id": "7171e8bd-3c77-4f71-b682-10f67200dfa1",
   "metadata": {},
   "source": [
    "                                                   DATA ANALYTICS 2025 Week-1 Assignment"
   ]
  },
  {
   "cell_type": "markdown",
   "id": "c4c61896-4b00-47a4-9eea-c681ad4b63fb",
   "metadata": {},
   "source": [
    "1. Start by importing all important libraries"
   ]
  },
  {
   "cell_type": "code",
   "execution_count": 1,
   "id": "e2e3451c-7da9-4bae-9e97-dfd951b14a9f",
   "metadata": {},
   "outputs": [],
   "source": [
    "import numpy as np"
   ]
  },
  {
   "cell_type": "markdown",
   "id": "cf7fbdba-b62d-4a43-8dcf-76e9c82c8dea",
   "metadata": {},
   "source": [
    "2. Read the csv file and assign it to a variable ."
   ]
  },
  {
   "cell_type": "code",
   "execution_count": 2,
   "id": "47c355d1-a019-49a7-8bd7-cbc539a89c65",
   "metadata": {},
   "outputs": [
    {
     "name": "stdout",
     "output_type": "stream",
     "text": [
      "    mpg  cylinders  displacement  horsepower  weight  acceleration  \\\n",
      "0  18.0          8         307.0       130.0    3504          12.0   \n",
      "1  15.0          8         350.0       165.0    3693          11.5   \n",
      "2  18.0          8         318.0       150.0    3436          11.0   \n",
      "3  16.0          8         304.0       150.0    3433          12.0   \n",
      "4  17.0          8         302.0       140.0    3449          10.5   \n",
      "\n",
      "   model_year origin                       name  \n",
      "0          70    usa  chevrolet chevelle malibu  \n",
      "1          70    usa          buick skylark 320  \n",
      "2          70    usa         plymouth satellite  \n",
      "3          70    usa              amc rebel sst  \n",
      "4          70    usa                ford torino  \n"
     ]
    }
   ],
   "source": [
    "import pandas as pd\n",
    "cars_df = pd.read_csv('Cars (1).csv')\n",
    "# Display the first few rows of the DataFrame to verify\n",
    "print(cars_df.head())"
   ]
  },
  {
   "cell_type": "markdown",
   "id": "1e792ee8-9693-41f4-9c07-c4b0b37b8a38",
   "metadata": {},
   "source": [
    "3. Display the shape of the DataFrame"
   ]
  },
  {
   "cell_type": "code",
   "execution_count": 3,
   "id": "31f5bf93-c442-4095-9f27-f0fb14747977",
   "metadata": {},
   "outputs": [
    {
     "name": "stdout",
     "output_type": "stream",
     "text": [
      "(398, 9)\n"
     ]
    }
   ],
   "source": [
    "print(cars_df.shape)"
   ]
  },
  {
   "cell_type": "markdown",
   "id": "c9836043-3c72-48f7-842a-5a393d901fc8",
   "metadata": {},
   "source": [
    "4.  Print all columns of dataframe"
   ]
  },
  {
   "cell_type": "code",
   "execution_count": 4,
   "id": "61dbd6c2-a413-48e9-ab91-3e14699ba3ac",
   "metadata": {},
   "outputs": [
    {
     "name": "stdout",
     "output_type": "stream",
     "text": [
      "Index(['mpg', 'cylinders', 'displacement', 'horsepower', 'weight',\n",
      "       'acceleration', 'model_year', 'origin', 'name'],\n",
      "      dtype='object')\n"
     ]
    }
   ],
   "source": [
    "print(cars_df.columns)"
   ]
  },
  {
   "cell_type": "markdown",
   "id": "118a16f2-a7c2-4765-9850-965bec7daa36",
   "metadata": {},
   "source": [
    "6. Set the 'name' column as the index of dataframe"
   ]
  },
  {
   "cell_type": "code",
   "execution_count": 5,
   "id": "e9a21403-4dff-415d-b3c0-2f4ff444877f",
   "metadata": {},
   "outputs": [
    {
     "name": "stdout",
     "output_type": "stream",
     "text": [
      "Index(['chevrolet chevelle malibu', 'buick skylark 320', 'plymouth satellite',\n",
      "       'amc rebel sst', 'ford torino', 'ford galaxie 500', 'chevrolet impala',\n",
      "       'plymouth fury iii', 'pontiac catalina', 'amc ambassador dpl',\n",
      "       ...\n",
      "       'chrysler lebaron medallion', 'ford granada l', 'toyota celica gt',\n",
      "       'dodge charger 2.2', 'chevrolet camaro', 'ford mustang gl', 'vw pickup',\n",
      "       'dodge rampage', 'ford ranger', 'chevy s-10'],\n",
      "      dtype='object', name='name', length=398)\n"
     ]
    }
   ],
   "source": [
    "cars_df.set_index('name', inplace=True)\n",
    "# To verify, you can print the index of the DataFrame\n",
    "print(cars_df.index)"
   ]
  },
  {
   "cell_type": "markdown",
   "id": "028f2d77-5a93-4978-adb5-8d776e8b1620",
   "metadata": {},
   "source": [
    "7. Print a list of all the unique mpg values"
   ]
  },
  {
   "cell_type": "code",
   "execution_count": 6,
   "id": "dddd82c1-aad4-4920-97f5-70d9d67c3373",
   "metadata": {
    "scrolled": true
   },
   "outputs": [
    {
     "name": "stdout",
     "output_type": "stream",
     "text": [
      "[18.  15.  16.  17.  14.  24.  22.  21.  27.  26.  25.  10.  11.   9.\n",
      " 28.  19.  12.  13.  23.  30.  31.  35.  20.  29.  32.  33.  17.5 15.5\n",
      " 14.5 22.5 24.5 18.5 29.5 26.5 16.5 31.5 36.  25.5 33.5 20.5 30.5 21.5\n",
      " 43.1 36.1 32.8 39.4 19.9 19.4 20.2 19.2 25.1 20.6 20.8 18.6 18.1 17.7\n",
      " 27.5 27.2 30.9 21.1 23.2 23.8 23.9 20.3 21.6 16.2 19.8 22.3 17.6 18.2\n",
      " 16.9 31.9 34.1 35.7 27.4 25.4 34.2 34.5 31.8 37.3 28.4 28.8 26.8 41.5\n",
      " 38.1 32.1 37.2 26.4 24.3 19.1 34.3 29.8 31.3 37.  32.2 46.6 27.9 40.8\n",
      " 44.3 43.4 36.4 44.6 40.9 33.8 32.7 23.7 23.6 32.4 26.6 25.8 23.5 39.1\n",
      " 39.  35.1 32.3 37.7 34.7 34.4 29.9 33.7 32.9 31.6 28.1 30.7 24.2 22.4\n",
      " 34.  38.  44. ]\n"
     ]
    }
   ],
   "source": [
    "print(cars_df['mpg'].unique())"
   ]
  },
  {
   "cell_type": "markdown",
   "id": "fb74f858-0610-46a5-a77a-16eb32c80a32",
   "metadata": {},
   "source": [
    "8. Create a column which contains the horsepower divided by weightas its metric and make this new column the index."
   ]
  },
  {
   "cell_type": "code",
   "execution_count": 7,
   "id": "27f94645-b38e-4884-92fd-7b95ee39132f",
   "metadata": {},
   "outputs": [
    {
     "name": "stdout",
     "output_type": "stream",
     "text": [
      "DataFrame with 'hp_per_weight' as index:\n",
      "                mpg  cylinders  displacement  horsepower  weight  \\\n",
      "hp_per_weight                                                      \n",
      "0.037100       18.0          8         307.0       130.0    3504   \n",
      "0.044679       15.0          8         350.0       165.0    3693   \n",
      "0.043655       18.0          8         318.0       150.0    3436   \n",
      "0.043694       16.0          8         304.0       150.0    3433   \n",
      "0.040591       17.0          8         302.0       140.0    3449   \n",
      "\n",
      "               acceleration  model_year origin  \n",
      "hp_per_weight                                   \n",
      "0.037100               12.0          70    usa  \n",
      "0.044679               11.5          70    usa  \n",
      "0.043655               11.0          70    usa  \n",
      "0.043694               12.0          70    usa  \n",
      "0.040591               10.5          70    usa  \n",
      "\n",
      "New DataFrame Index:\n",
      "Index([0.037100456621004564,  0.04467912266450041, 0.043655413271245634,\n",
      "       0.043693562481794346,  0.04059147579008408,  0.04561161022805805,\n",
      "       0.050528249885163065, 0.049860853432282005,  0.05084745762711865,\n",
      "        0.04935064935064935,\n",
      "       ...\n",
      "       0.035589941972920695,  0.03950617283950617,  0.03602251407129456,\n",
      "       0.035443037974683546, 0.030508474576271188,  0.03082437275985663,\n",
      "       0.024413145539906103, 0.036601307189542485, 0.030095238095238095,\n",
      "       0.030147058823529412],\n",
      "      dtype='float64', name='hp_per_weight', length=398)\n"
     ]
    }
   ],
   "source": [
    "cars_df['horsepower'] = pd.to_numeric(cars_df['horsepower'], errors='coerce')\n",
    "cars_df['weight'] = pd.to_numeric(cars_df['weight'], errors='coerce')\n",
    "cars_df['hp_per_weight'] = cars_df['horsepower'] / cars_df['weight']\n",
    "cars_df.set_index('hp_per_weight', inplace=True)\n",
    "print(\"DataFrame with 'hp_per_weight' as index:\")\n",
    "print(cars_df.head())\n",
    "print(\"\\nNew DataFrame Index:\")\n",
    "print(cars_df.index)"
   ]
  },
  {
   "cell_type": "code",
   "execution_count": null,
   "id": "d1bb0857-84a3-4d53-a676-333017070400",
   "metadata": {},
   "outputs": [],
   "source": []
  }
 ],
 "metadata": {
  "kernelspec": {
   "display_name": "Python 3 (ipykernel)",
   "language": "python",
   "name": "python3"
  },
  "language_info": {
   "codemirror_mode": {
    "name": "ipython",
    "version": 3
   },
   "file_extension": ".py",
   "mimetype": "text/x-python",
   "name": "python",
   "nbconvert_exporter": "python",
   "pygments_lexer": "ipython3",
   "version": "3.13.1"
  }
 },
 "nbformat": 4,
 "nbformat_minor": 5
}
